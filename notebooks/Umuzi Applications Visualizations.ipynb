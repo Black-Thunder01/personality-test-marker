{
 "cells": [
  {
   "cell_type": "code",
   "execution_count": 2,
   "metadata": {},
   "outputs": [],
   "source": [
    "# import necessary libraries.\n",
    "import pandas as pd\n",
    "import numpy as np\n",
    "import matplotlib.pyplot as plt\n",
    "import plotly\n",
    "plotly.tools.set_credentials_file(username='Johan.khanye', api_key='sy4KJxtUIOpZQxhAsHaw')\n",
    "import plotly.plotly as py\n",
    "# graph objects00\n",
    "import plotly.graph_objs as go\n",
    "from functions.ApplicantsPersonalityFunctions import get_col, create_bar_graph\n",
    "import ipywidgets as widgets"
   ]
  },
  {
   "cell_type": "code",
   "execution_count": 3,
   "metadata": {},
   "outputs": [
    {
     "name": "stdout",
     "output_type": "stream",
     "text": [
      "The dataFrame contains : 158 columns\n",
      "The dataFrame contains : 1493 rows\n"
     ]
    }
   ],
   "source": [
    "df = pd.read_csv('../data/Copy of Applicant Personality Review (Dec 2018) (Responses) - Form Responses 1.csv')\n",
    "print(\"The dataFrame contains :\",len(df.columns),'columns')\n",
    "print(\"The dataFrame contains :\",len(df.index),'rows')"
   ]
  },
  {
   "cell_type": "code",
   "execution_count": 4,
   "metadata": {},
   "outputs": [
    {
     "name": "stdout",
     "output_type": "stream",
     "text": [
      "<class 'pandas.core.frame.DataFrame'>\n",
      "RangeIndex: 1493 entries, 0 to 1492\n",
      "Columns: 158 entries, Timestamp to Are you a South African citizen?\n",
      "dtypes: float64(1), int64(33), object(124)\n",
      "memory usage: 1.8+ MB\n"
     ]
    }
   ],
   "source": [
    "df.info()"
   ]
  },
  {
   "cell_type": "markdown",
   "metadata": {},
   "source": [
    "### Columns"
   ]
  },
  {
   "cell_type": "code",
   "execution_count": 5,
   "metadata": {
    "scrolled": false
   },
   "outputs": [
    {
     "data": {
      "text/plain": [
       "Index(['Timestamp', 'Name ', 'Surname',\n",
       "       'Email Address (the address you have used for Umuzi communications)',\n",
       "       'South African ID',\n",
       "       'Section 1 of 6 [When someone else is feeling excited, I tend to get excited too]',\n",
       "       'Section 1 of 6 [Other people’s misfortunes do not disturb me a great deal.]',\n",
       "       'Section 1 of 6 [It upsets me to see someone being treated disrespectfully.]',\n",
       "       'Section 1 of 6 [I remain unaffected when someone close to me is happy.]',\n",
       "       'Section 1 of 6 [I enjoy making other people feel better]',\n",
       "       ...\n",
       "       'Part 2 : Personal Truths [I make jokes about intellectual disability.]',\n",
       "       'Part 2 : Personal Truths [I have little patience for slackers.]',\n",
       "       'Part 2 : Personal Truths [I eat sweets.]',\n",
       "       'Part 2 : Personal Truths [I would not like my child to marry someone of a different race.]',\n",
       "       'Part 2 : Personal Truths [I often forget what day it is.]',\n",
       "       'Part 2 : Personal Truths [I don‘t strive for elegance in my appearance.]',\n",
       "       'Part 2 : Personal Truths [I feel that most people are genuine.]',\n",
       "       'Part 2 : Personal Truths [I went through a phase where I was interested in the occult (supernatural).]',\n",
       "       'Part 2 : Personal Truths [I would make a good journalist.]',\n",
       "       'Are you a South African citizen?'],\n",
       "      dtype='object', length=158)"
      ]
     },
     "execution_count": 5,
     "metadata": {},
     "output_type": "execute_result"
    }
   ],
   "source": [
    "df.columns"
   ]
  },
  {
   "cell_type": "code",
   "execution_count": 6,
   "metadata": {},
   "outputs": [
    {
     "data": {
      "text/plain": [
       "(array([], dtype=int64), array([], dtype=int64))"
      ]
     },
     "execution_count": 6,
     "metadata": {},
     "output_type": "execute_result"
    }
   ],
   "source": [
    "# Check for null values\n",
    "np.where(pd.isnull(df.drop(['Are you a South African citizen?'], axis=1)))"
   ]
  },
  {
   "cell_type": "markdown",
   "metadata": {},
   "source": [
    "### Understanding data types"
   ]
  },
  {
   "cell_type": "code",
   "execution_count": 7,
   "metadata": {
    "scrolled": true
   },
   "outputs": [
    {
     "name": "stdout",
     "output_type": "stream",
     "text": [
      "[dtype('int64') dtype('float64') dtype('O')]\n"
     ]
    }
   ],
   "source": [
    "dtypes = [datatype for datatype in df.dtypes]\n",
    "print(np.unique(dtypes))"
   ]
  },
  {
   "cell_type": "markdown",
   "metadata": {},
   "source": [
    "#### fix data type for categorical data types"
   ]
  },
  {
   "cell_type": "code",
   "execution_count": 8,
   "metadata": {
    "scrolled": false
   },
   "outputs": [],
   "source": [
    "# set categorical columns dtype=category\n",
    "for col in df.columns:\n",
    "    if len(np.unique(df[col])) < 6:\n",
    "        categorical_columns = pd.Categorical(np.array(df[col]),ordered=False)\n",
    "        df[col] = categorical_columns"
   ]
  },
  {
   "cell_type": "code",
   "execution_count": 9,
   "metadata": {},
   "outputs": [
    {
     "name": "stdout",
     "output_type": "stream",
     "text": [
      "<class 'pandas.core.frame.DataFrame'>\n",
      "RangeIndex: 1493 entries, 0 to 1492\n",
      "Columns: 158 entries, Timestamp to Are you a South African citizen?\n",
      "dtypes: category(152), float64(1), int64(1), object(4)\n",
      "memory usage: 314.0+ KB\n"
     ]
    }
   ],
   "source": [
    "# Check if data types are fixed\n",
    "df.info()"
   ]
  },
  {
   "cell_type": "markdown",
   "metadata": {},
   "source": [
    "## Total Results of applications by question\n",
    "### General Test Results"
   ]
  },
  {
   "cell_type": "code",
   "execution_count": 16,
   "metadata": {},
   "outputs": [],
   "source": [
    "# Create drop down menu to select column of interest.\n",
    "# get categorical columns.\n",
    "column_opts = [col for col in df.columns if len(np.unique(df[col])) < 6];\n",
    "\n",
    "# create dropdown widget.\n",
    "Choose_column = widgets.Dropdown(\n",
    "    options=column_opts,\n",
    "    value='Section 1 of 6 [When someone else is feeling excited, I tend to get excited too]',\n",
    "    description='column:',\n",
    "    disabled=False)"
   ]
  },
  {
   "cell_type": "code",
   "execution_count": 17,
   "metadata": {},
   "outputs": [
    {
     "data": {
      "application/vnd.jupyter.widget-view+json": {
       "model_id": "f042ea4ba79c44c2bbf7f4d147abd42b",
       "version_major": 2,
       "version_minor": 0
      },
      "text/plain": [
       "Dropdown(description='column:', options=('Section 1 of 6 [When someone else is feeling excited, I tend to get …"
      ]
     },
     "metadata": {},
     "output_type": "display_data"
    }
   ],
   "source": [
    "Choose_column\n",
    "# currentValue='Section 1 of 6 [When someone else is feeling excited, I tend to get excited too]'\n",
    "# \n"
   ]
  },
  {
   "cell_type": "code",
   "execution_count": 18,
   "metadata": {},
   "outputs": [
    {
     "name": "stdout",
     "output_type": "stream",
     "text": [
      "High five! You successfully sent some data to your account on plotly. View your plot in your browser at https://plot.ly/~Johan.khanye/0 or inside your plot.ly account where it is named 'share_excitement-bar'\n"
     ]
    },
    {
     "data": {
      "text/html": [
       "<iframe id=\"igraph\" scrolling=\"no\" style=\"border:none;\" seamless=\"seamless\" src=\"https://plot.ly/~Johan.khanye/0.embed\" height=\"525px\" width=\"100%\"></iframe>"
      ],
      "text/plain": [
       "<plotly.tools.PlotlyDisplay object>"
      ]
     },
     "execution_count": 18,
     "metadata": {},
     "output_type": "execute_result"
    }
   ],
   "source": [
    "chosen_col = Choose_column.value\n",
    "create_bar_graph(df, chosen_col, 'green')"
   ]
  },
  {
   "cell_type": "markdown",
   "metadata": {},
   "source": [
    "### Sectioned Test Results"
   ]
  },
  {
   "cell_type": "code",
   "execution_count": null,
   "metadata": {},
   "outputs": [],
   "source": []
  }
 ],
 "metadata": {
  "kernelspec": {
   "display_name": "Python 3",
   "language": "python",
   "name": "python3"
  },
  "language_info": {
   "codemirror_mode": {
    "name": "ipython",
    "version": 3
   },
   "file_extension": ".py",
   "mimetype": "text/x-python",
   "name": "python",
   "nbconvert_exporter": "python",
   "pygments_lexer": "ipython3",
   "version": "3.6.8"
  }
 },
 "nbformat": 4,
 "nbformat_minor": 2
}
