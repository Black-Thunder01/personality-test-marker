{
 "cells": [
  {
   "cell_type": "code",
   "execution_count": 1,
   "metadata": {},
   "outputs": [],
   "source": [
    "# import necessary libraries.\n",
    "import pandas as pd\n",
    "import numpy as np\n",
    "import matplotlib.pyplot as plt\n",
    "import plotly\n",
    "plotly.tools.set_credentials_file(username='Johan.khanye', api_key='sy4KJxtUIOpZQxhAsHaw')\n",
    "import plotly.plotly as py\n",
    "# graph objects00\n",
    "import plotly.graph_objs as go\n",
    "from functions.ApplicantsPersonalityFunctions import create_histogram, stacked_hist\n",
    "import ipywidgets as widgets"
   ]
  },
  {
   "cell_type": "code",
   "execution_count": 2,
   "metadata": {},
   "outputs": [
    {
     "name": "stdout",
     "output_type": "stream",
     "text": [
      "The dataFrame contains : 179 columns\n",
      "The dataFrame contains : 1548 rows\n"
     ]
    }
   ],
   "source": [
    "df = pd.read_csv('../data/processed/personality_scored_answers.csv')\n",
    "print(\"The dataFrame contains :\",len(df.columns),'columns')\n",
    "print(\"The dataFrame contains :\",len(df.index),'rows')"
   ]
  },
  {
   "cell_type": "code",
   "execution_count": 3,
   "metadata": {},
   "outputs": [
    {
     "data": {
      "text/html": [
       "<div>\n",
       "<style scoped>\n",
       "    .dataframe tbody tr th:only-of-type {\n",
       "        vertical-align: middle;\n",
       "    }\n",
       "\n",
       "    .dataframe tbody tr th {\n",
       "        vertical-align: top;\n",
       "    }\n",
       "\n",
       "    .dataframe thead th {\n",
       "        text-align: right;\n",
       "    }\n",
       "</style>\n",
       "<table border=\"1\" class=\"dataframe\">\n",
       "  <thead>\n",
       "    <tr style=\"text-align: right;\">\n",
       "      <th></th>\n",
       "      <th>Unnamed: 0</th>\n",
       "      <th></th>\n",
       "      <th>Are you a South African citizen?</th>\n",
       "      <th>Email Address (the address you have used for Umuzi communications)</th>\n",
       "      <th>Name</th>\n",
       "      <th>Part 1 : Opposing Descriptions [Accepts things as they are | Unsatisfied with the way things are]</th>\n",
       "      <th>Part 1 : Opposing Descriptions [Bases morality on justice | Bases morality on compassion]</th>\n",
       "      <th>Part 1 : Opposing Descriptions [Bored by time alone | Needs time alone]</th>\n",
       "      <th>Part 1 : Opposing Descriptions [Chaotic | Organized]</th>\n",
       "      <th>Part 1 : Opposing Descriptions [Easily hurt | Thick-skinned]</th>\n",
       "      <th>...</th>\n",
       "      <th>human_BRS</th>\n",
       "      <th>human_DGS</th>\n",
       "      <th>human_BARON_COHEN_if_male</th>\n",
       "      <th>human_BARON_COHEN_if_female</th>\n",
       "      <th>human_IPIP_Extraversion</th>\n",
       "      <th>human_IPIP_Agreeableness</th>\n",
       "      <th>human_IPIP_Conscientiousness</th>\n",
       "      <th>human_IPIP_Emotional Stability/Neuroticism</th>\n",
       "      <th>human_IPIP_Intellect/Imagination / openness to experiences</th>\n",
       "      <th>IPIP_HIGH_RISK</th>\n",
       "    </tr>\n",
       "  </thead>\n",
       "  <tbody>\n",
       "    <tr>\n",
       "      <th>0</th>\n",
       "      <td>0</td>\n",
       "      <td>12/12/2018 15:21:54</td>\n",
       "      <td>NaN</td>\n",
       "      <td>kamogeloruddy@gmail.com</td>\n",
       "      <td>Ruddy kamogelo</td>\n",
       "      <td>3</td>\n",
       "      <td>4</td>\n",
       "      <td>4</td>\n",
       "      <td>2</td>\n",
       "      <td>3</td>\n",
       "      <td>...</td>\n",
       "      <td>medium resilient</td>\n",
       "      <td>medium grit</td>\n",
       "      <td>above average</td>\n",
       "      <td>above average</td>\n",
       "      <td>medium</td>\n",
       "      <td>medium</td>\n",
       "      <td>high</td>\n",
       "      <td>medium</td>\n",
       "      <td>medium</td>\n",
       "      <td>NaN</td>\n",
       "    </tr>\n",
       "    <tr>\n",
       "      <th>1</th>\n",
       "      <td>1</td>\n",
       "      <td>12/12/2018 15:27:24</td>\n",
       "      <td>NaN</td>\n",
       "      <td>m.mkizwana@gmail.com</td>\n",
       "      <td>Marie</td>\n",
       "      <td>4</td>\n",
       "      <td>3</td>\n",
       "      <td>1</td>\n",
       "      <td>1</td>\n",
       "      <td>1</td>\n",
       "      <td>...</td>\n",
       "      <td>medium resilient</td>\n",
       "      <td>medium grit</td>\n",
       "      <td>average</td>\n",
       "      <td>above average</td>\n",
       "      <td>high</td>\n",
       "      <td>high</td>\n",
       "      <td>high</td>\n",
       "      <td>high</td>\n",
       "      <td>medium</td>\n",
       "      <td>NaN</td>\n",
       "    </tr>\n",
       "    <tr>\n",
       "      <th>2</th>\n",
       "      <td>2</td>\n",
       "      <td>12/12/2018 15:35:21</td>\n",
       "      <td>NaN</td>\n",
       "      <td>nontandonziyana280@gmail.com</td>\n",
       "      <td>Nontando</td>\n",
       "      <td>3</td>\n",
       "      <td>3</td>\n",
       "      <td>1</td>\n",
       "      <td>1</td>\n",
       "      <td>1</td>\n",
       "      <td>...</td>\n",
       "      <td>medium resilient</td>\n",
       "      <td>medium grit</td>\n",
       "      <td>average</td>\n",
       "      <td>average</td>\n",
       "      <td>medium</td>\n",
       "      <td>medium</td>\n",
       "      <td>medium</td>\n",
       "      <td>medium</td>\n",
       "      <td>medium</td>\n",
       "      <td>NaN</td>\n",
       "    </tr>\n",
       "    <tr>\n",
       "      <th>3</th>\n",
       "      <td>3</td>\n",
       "      <td>12/12/2018 15:38:12</td>\n",
       "      <td>NaN</td>\n",
       "      <td>s.manana001@gmail.com</td>\n",
       "      <td>Sibusiso</td>\n",
       "      <td>4</td>\n",
       "      <td>3</td>\n",
       "      <td>2</td>\n",
       "      <td>1</td>\n",
       "      <td>1</td>\n",
       "      <td>...</td>\n",
       "      <td>medium resilient</td>\n",
       "      <td>medium grit</td>\n",
       "      <td>below average</td>\n",
       "      <td>average</td>\n",
       "      <td>medium</td>\n",
       "      <td>low</td>\n",
       "      <td>low</td>\n",
       "      <td>high</td>\n",
       "      <td>medium</td>\n",
       "      <td>NaN</td>\n",
       "    </tr>\n",
       "    <tr>\n",
       "      <th>4</th>\n",
       "      <td>4</td>\n",
       "      <td>12/12/2018 15:38:42</td>\n",
       "      <td>NaN</td>\n",
       "      <td>khabo25@live.com</td>\n",
       "      <td>Khabonina</td>\n",
       "      <td>4</td>\n",
       "      <td>5</td>\n",
       "      <td>3</td>\n",
       "      <td>4</td>\n",
       "      <td>3</td>\n",
       "      <td>...</td>\n",
       "      <td>medium resilient</td>\n",
       "      <td>medium grit</td>\n",
       "      <td>below average</td>\n",
       "      <td>average</td>\n",
       "      <td>medium</td>\n",
       "      <td>low</td>\n",
       "      <td>high</td>\n",
       "      <td>medium</td>\n",
       "      <td>low</td>\n",
       "      <td>NaN</td>\n",
       "    </tr>\n",
       "  </tbody>\n",
       "</table>\n",
       "<p>5 rows × 179 columns</p>\n",
       "</div>"
      ],
      "text/plain": [
       "   Unnamed: 0                   \\n  Are you a South African citizen?  \\\n",
       "0           0  12/12/2018 15:21:54                               NaN   \n",
       "1           1  12/12/2018 15:27:24                               NaN   \n",
       "2           2  12/12/2018 15:35:21                               NaN   \n",
       "3           3  12/12/2018 15:38:12                               NaN   \n",
       "4           4  12/12/2018 15:38:42                               NaN   \n",
       "\n",
       "  Email Address (the address you have used for Umuzi communications)  \\\n",
       "0                            kamogeloruddy@gmail.com                   \n",
       "1                               m.mkizwana@gmail.com                   \n",
       "2                       nontandonziyana280@gmail.com                   \n",
       "3                              s.manana001@gmail.com                   \n",
       "4                                   khabo25@live.com                   \n",
       "\n",
       "             Name   \\\n",
       "0  Ruddy kamogelo    \n",
       "1            Marie   \n",
       "2         Nontando   \n",
       "3         Sibusiso   \n",
       "4       Khabonina    \n",
       "\n",
       "   Part 1 : Opposing Descriptions [Accepts things as they are | Unsatisfied with the way things are]  \\\n",
       "0                                                  3                                                   \n",
       "1                                                  4                                                   \n",
       "2                                                  3                                                   \n",
       "3                                                  4                                                   \n",
       "4                                                  4                                                   \n",
       "\n",
       "   Part 1 : Opposing Descriptions [Bases morality on justice | Bases morality on compassion]  \\\n",
       "0                                                  4                                           \n",
       "1                                                  3                                           \n",
       "2                                                  3                                           \n",
       "3                                                  3                                           \n",
       "4                                                  5                                           \n",
       "\n",
       "   Part 1 : Opposing Descriptions [Bored by time alone | Needs time alone]  \\\n",
       "0                                                  4                         \n",
       "1                                                  1                         \n",
       "2                                                  1                         \n",
       "3                                                  2                         \n",
       "4                                                  3                         \n",
       "\n",
       "   Part 1 : Opposing Descriptions [Chaotic | Organized]  \\\n",
       "0                                                  2      \n",
       "1                                                  1      \n",
       "2                                                  1      \n",
       "3                                                  1      \n",
       "4                                                  4      \n",
       "\n",
       "   Part 1 : Opposing Descriptions [Easily hurt | Thick-skinned]  \\\n",
       "0                                                  3              \n",
       "1                                                  1              \n",
       "2                                                  1              \n",
       "3                                                  1              \n",
       "4                                                  3              \n",
       "\n",
       "        ...               human_BRS    human_DGS  human_BARON_COHEN_if_male  \\\n",
       "0       ...        medium resilient  medium grit              above average   \n",
       "1       ...        medium resilient  medium grit                    average   \n",
       "2       ...        medium resilient  medium grit                    average   \n",
       "3       ...        medium resilient  medium grit              below average   \n",
       "4       ...        medium resilient  medium grit              below average   \n",
       "\n",
       "   human_BARON_COHEN_if_female  human_IPIP_Extraversion  \\\n",
       "0                above average                   medium   \n",
       "1                above average                     high   \n",
       "2                      average                   medium   \n",
       "3                      average                   medium   \n",
       "4                      average                   medium   \n",
       "\n",
       "   human_IPIP_Agreeableness  human_IPIP_Conscientiousness  \\\n",
       "0                    medium                          high   \n",
       "1                      high                          high   \n",
       "2                    medium                        medium   \n",
       "3                       low                           low   \n",
       "4                       low                          high   \n",
       "\n",
       "   human_IPIP_Emotional Stability/Neuroticism  \\\n",
       "0                                      medium   \n",
       "1                                        high   \n",
       "2                                      medium   \n",
       "3                                        high   \n",
       "4                                      medium   \n",
       "\n",
       "   human_IPIP_Intellect/Imagination / openness to experiences  IPIP_HIGH_RISK  \n",
       "0                                             medium                      NaN  \n",
       "1                                             medium                      NaN  \n",
       "2                                             medium                      NaN  \n",
       "3                                             medium                      NaN  \n",
       "4                                                low                      NaN  \n",
       "\n",
       "[5 rows x 179 columns]"
      ]
     },
     "execution_count": 3,
     "metadata": {},
     "output_type": "execute_result"
    }
   ],
   "source": [
    "df.head()"
   ]
  },
  {
   "cell_type": "code",
   "execution_count": 4,
   "metadata": {},
   "outputs": [
    {
     "name": "stdout",
     "output_type": "stream",
     "text": [
      "<class 'pandas.core.frame.DataFrame'>\n",
      "RangeIndex: 1548 entries, 0 to 1547\n",
      "Columns: 179 entries, Unnamed: 0 to IPIP_HIGH_RISK\n",
      "dtypes: float64(4), int64(83), object(92)\n",
      "memory usage: 2.1+ MB\n"
     ]
    }
   ],
   "source": [
    "df.info()"
   ]
  },
  {
   "cell_type": "markdown",
   "metadata": {},
   "source": [
    "### Columns"
   ]
  },
  {
   "cell_type": "code",
   "execution_count": 5,
   "metadata": {
    "scrolled": false
   },
   "outputs": [
    {
     "data": {
      "text/plain": [
       "Index(['Unnamed: 0', '\\n', 'Are you a South African citizen?',\n",
       "       'Email Address (the address you have used for Umuzi communications)',\n",
       "       'Name ',\n",
       "       'Part 1 : Opposing Descriptions [Accepts things as they are | Unsatisfied with the way things are]',\n",
       "       'Part 1 : Opposing Descriptions [Bases morality on justice | Bases morality on compassion]',\n",
       "       'Part 1 : Opposing Descriptions [Bored by time alone | Needs time alone]',\n",
       "       'Part 1 : Opposing Descriptions [Chaotic | Organized]',\n",
       "       'Part 1 : Opposing Descriptions [Easily hurt | Thick-skinned]',\n",
       "       ...\n",
       "       'human_BRS', 'human_DGS', 'human_BARON_COHEN_if_male',\n",
       "       'human_BARON_COHEN_if_female', 'human_IPIP_Extraversion',\n",
       "       'human_IPIP_Agreeableness', 'human_IPIP_Conscientiousness',\n",
       "       'human_IPIP_Emotional Stability/Neuroticism',\n",
       "       'human_IPIP_Intellect/Imagination / openness to experiences',\n",
       "       'IPIP_HIGH_RISK'],\n",
       "      dtype='object', length=179)"
      ]
     },
     "execution_count": 5,
     "metadata": {},
     "output_type": "execute_result"
    }
   ],
   "source": [
    "df.columns"
   ]
  },
  {
   "cell_type": "code",
   "execution_count": 6,
   "metadata": {},
   "outputs": [
    {
     "data": {
      "text/plain": [
       "(array([], dtype=int64), array([], dtype=int64))"
      ]
     },
     "execution_count": 6,
     "metadata": {},
     "output_type": "execute_result"
    }
   ],
   "source": [
    "# Check for null values\n",
    "np.where(pd.isnull(df.drop(['Are you a South African citizen?','IPIP_HIGH_RISK'], axis=1)))"
   ]
  },
  {
   "cell_type": "markdown",
   "metadata": {},
   "source": [
    "## Total Results of applications by question"
   ]
  },
  {
   "cell_type": "code",
   "execution_count": 7,
   "metadata": {},
   "outputs": [],
   "source": [
    "#View data structure\n",
    "column_opts = [col for col in df.columns];\n",
    "dataFrame_col_chooser = widgets.Dropdown(\n",
    "    options=column_opts,\n",
    "    value='Section 1 of 6 [When someone else is feeling excited, I tend to get excited too]',\n",
    "    description='column:',\n",
    "    disabled=False)"
   ]
  },
  {
   "cell_type": "code",
   "execution_count": 8,
   "metadata": {},
   "outputs": [
    {
     "data": {
      "application/vnd.jupyter.widget-view+json": {
       "model_id": "e4a3d8e8421549908fd63e0c6680c447",
       "version_major": 2,
       "version_minor": 0
      },
      "text/plain": [
       "Dropdown(description='column:', index=80, options=('Unnamed: 0', '\\n', 'Are you a South African citizen?', 'Em…"
      ]
     },
     "metadata": {},
     "output_type": "display_data"
    }
   ],
   "source": [
    "dataFrame_col_chooser"
   ]
  },
  {
   "cell_type": "code",
   "execution_count": 9,
   "metadata": {},
   "outputs": [
    {
     "data": {
      "text/html": [
       "<div>\n",
       "<style scoped>\n",
       "    .dataframe tbody tr th:only-of-type {\n",
       "        vertical-align: middle;\n",
       "    }\n",
       "\n",
       "    .dataframe tbody tr th {\n",
       "        vertical-align: top;\n",
       "    }\n",
       "\n",
       "    .dataframe thead th {\n",
       "        text-align: right;\n",
       "    }\n",
       "</style>\n",
       "<table border=\"1\" class=\"dataframe\">\n",
       "  <thead>\n",
       "    <tr style=\"text-align: right;\">\n",
       "      <th></th>\n",
       "      <th>Section 1 of 6 [When someone else is feeling excited, I tend to get excited too]</th>\n",
       "    </tr>\n",
       "  </thead>\n",
       "  <tbody>\n",
       "    <tr>\n",
       "      <th>0</th>\n",
       "      <td>3</td>\n",
       "    </tr>\n",
       "    <tr>\n",
       "      <th>1</th>\n",
       "      <td>4</td>\n",
       "    </tr>\n",
       "    <tr>\n",
       "      <th>2</th>\n",
       "      <td>3</td>\n",
       "    </tr>\n",
       "    <tr>\n",
       "      <th>3</th>\n",
       "      <td>1</td>\n",
       "    </tr>\n",
       "    <tr>\n",
       "      <th>4</th>\n",
       "      <td>2</td>\n",
       "    </tr>\n",
       "  </tbody>\n",
       "</table>\n",
       "</div>"
      ],
      "text/plain": [
       "   Section 1 of 6 [When someone else is feeling excited, I tend to get excited too]\n",
       "0                                                  3                               \n",
       "1                                                  4                               \n",
       "2                                                  3                               \n",
       "3                                                  1                               \n",
       "4                                                  2                               "
      ]
     },
     "execution_count": 9,
     "metadata": {},
     "output_type": "execute_result"
    }
   ],
   "source": [
    "df[[dataFrame_col_chooser.value]].head()"
   ]
  },
  {
   "cell_type": "markdown",
   "metadata": {},
   "source": [
    "### General Test Results"
   ]
  },
  {
   "cell_type": "code",
   "execution_count": 10,
   "metadata": {},
   "outputs": [],
   "source": [
    "# Create drop down menu to select column of interest.\n",
    "# get categorical columns.\n",
    "column_opts = [col for col in df.columns if len(np.unique(df[col])) < 6];\n",
    "# create dropdown widget.\n",
    "general_columns_dropdown = widgets.Dropdown(\n",
    "    options=column_opts,\n",
    "    value='Section 1 of 6 [When someone else is feeling excited, I tend to get excited too]',\n",
    "    description='column:',\n",
    "    disabled=False)"
   ]
  },
  {
   "cell_type": "code",
   "execution_count": 11,
   "metadata": {},
   "outputs": [
    {
     "data": {
      "application/vnd.jupyter.widget-view+json": {
       "model_id": "811624f1578d4817a57346321e0eac74",
       "version_major": 2,
       "version_minor": 0
      },
      "text/plain": [
       "Dropdown(description='column:', index=75, options=('Part 1 : Opposing Descriptions [Accepts things as they are…"
      ]
     },
     "metadata": {},
     "output_type": "display_data"
    }
   ],
   "source": [
    "general_columns_dropdown"
   ]
  },
  {
   "cell_type": "code",
   "execution_count": 12,
   "metadata": {},
   "outputs": [
    {
     "data": {
      "text/html": [
       "<iframe id=\"igraph\" scrolling=\"no\" style=\"border:none;\" seamless=\"seamless\" src=\"https://plot.ly/~Johan.khanye/4.embed\" height=\"525px\" width=\"100%\"></iframe>"
      ],
      "text/plain": [
       "<plotly.tools.PlotlyDisplay object>"
      ]
     },
     "execution_count": 12,
     "metadata": {},
     "output_type": "execute_result"
    }
   ],
   "source": [
    "# Create histogram for chosen column.\n",
    "chosen_col = general_columns_dropdown.value\n",
    "create_histogram(df, chosen_col)"
   ]
  },
  {
   "cell_type": "markdown",
   "metadata": {},
   "source": [
    "### Comparison graphs"
   ]
  },
  {
   "cell_type": "code",
   "execution_count": 13,
   "metadata": {},
   "outputs": [
    {
     "data": {
      "application/vnd.jupyter.widget-view+json": {
       "model_id": "d0619eccbf9546ab9bbd7d3f62beedda",
       "version_major": 2,
       "version_minor": 0
      },
      "text/plain": [
       "Dropdown(description='column:', index=75, options=('Part 1 : Opposing Descriptions [Accepts things as they are…"
      ]
     },
     "metadata": {},
     "output_type": "display_data"
    }
   ],
   "source": [
    "first_column = widgets.Dropdown(\n",
    "    options=column_opts,\n",
    "    value='Section 1 of 6 [When someone else is feeling excited, I tend to get excited too]',\n",
    "    description='column:',\n",
    "    disabled=False)\n",
    "first_column"
   ]
  },
  {
   "cell_type": "code",
   "execution_count": 14,
   "metadata": {},
   "outputs": [
    {
     "data": {
      "application/vnd.jupyter.widget-view+json": {
       "model_id": "75c35d9705a8467f99f97c2c76a2a254",
       "version_major": 2,
       "version_minor": 0
      },
      "text/plain": [
       "Dropdown(description='column:', options=('Part 1 : Opposing Descriptions [Accepts things as they are | Unsatis…"
      ]
     },
     "metadata": {},
     "output_type": "display_data"
    }
   ],
   "source": [
    "possible_opts = [col for col in column_opts if len(df[col].value_counts()) == len(df[first_column.value].value_counts())]\n",
    "second_column = widgets.Dropdown(\n",
    "    options=possible_opts,\n",
    "    value=possible_opts[0],\n",
    "    description='column:',\n",
    "    disabled=False)  \n",
    "second_column"
   ]
  },
  {
   "cell_type": "code",
   "execution_count": 16,
   "metadata": {},
   "outputs": [],
   "source": [
    "# set visualisation variables\n",
    "first = first_column.value\n",
    "second = second_column.value"
   ]
  },
  {
   "cell_type": "code",
   "execution_count": 17,
   "metadata": {},
   "outputs": [
    {
     "data": {
      "text/html": [
       "<iframe id=\"igraph\" scrolling=\"no\" style=\"border:none;\" seamless=\"seamless\" src=\"https://plot.ly/~Johan.khanye/8.embed\" height=\"525px\" width=\"100%\"></iframe>"
      ],
      "text/plain": [
       "<plotly.tools.PlotlyDisplay object>"
      ]
     },
     "execution_count": 17,
     "metadata": {},
     "output_type": "execute_result"
    }
   ],
   "source": [
    "stacked_hist(df, first, second)"
   ]
  },
  {
   "cell_type": "code",
   "execution_count": null,
   "metadata": {},
   "outputs": [],
   "source": []
  }
 ],
 "metadata": {
  "kernelspec": {
   "display_name": "Python 3",
   "language": "python",
   "name": "python3"
  },
  "language_info": {
   "codemirror_mode": {
    "name": "ipython",
    "version": 3
   },
   "file_extension": ".py",
   "mimetype": "text/x-python",
   "name": "python",
   "nbconvert_exporter": "python",
   "pygments_lexer": "ipython3",
   "version": "3.6.8"
  }
 },
 "nbformat": 4,
 "nbformat_minor": 2
}
