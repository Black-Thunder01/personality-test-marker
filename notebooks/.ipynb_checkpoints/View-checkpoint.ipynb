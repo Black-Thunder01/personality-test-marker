{
 "cells": [
  {
   "cell_type": "code",
   "execution_count": 1,
   "metadata": {},
   "outputs": [],
   "source": [
    "# Functions to apply on visualisations notebook"
   ]
  },
  {
   "cell_type": "code",
   "execution_count": 2,
   "metadata": {},
   "outputs": [],
   "source": [
    "# Fuction to split column question to main question string\n",
    "def get_col(col):\n",
    "    dirt, semi_col = col.split('[')\n",
    "    fin_col, dirt = semi_col.split(']')\n",
    "    return fin_col"
   ]
  },
  {
   "cell_type": "code",
   "execution_count": 3,
   "metadata": {},
   "outputs": [],
   "source": [
    "# Create bar-graph for our personality data.\n",
    "def create_bar_graph(df, col):\n",
    "    # Get key value pairs, key --> applicant responses and value --> counts of responses;\n",
    "    keys = [k for k,v  in df[col].value_counts().items()];\n",
    "    values = [v for k,v  in df[col].value_counts().items()];\n",
    "    data = [go.Bar(x=keys,y=values,text=keys,textposition = 'auto')]\n",
    "    # graph layout\n",
    "    layout = go.Layout(\n",
    "        title= get_col(col),\n",
    "        yaxis=dict(\n",
    "            title='Frequency of Applicants',\n",
    "            titlefont=dict(\n",
    "                size=20,\n",
    "                color='rgb(107, 107, 107)'\n",
    "            )\n",
    "        )\n",
    "    )\n",
    "\n",
    "    # Show plot.\n",
    "    fig = go.Figure(data=data, layout=layout)\n",
    "    return py.iplot(fig, filename='share_excitement-bar')"
   ]
  },
  {
   "cell_type": "code",
   "execution_count": null,
   "metadata": {},
   "outputs": [],
   "source": []
  }
 ],
 "metadata": {
  "kernelspec": {
   "display_name": "Python 3",
   "language": "python",
   "name": "python3"
  },
  "language_info": {
   "codemirror_mode": {
    "name": "ipython",
    "version": 3
   },
   "file_extension": ".py",
   "mimetype": "text/x-python",
   "name": "python",
   "nbconvert_exporter": "python",
   "pygments_lexer": "ipython3",
   "version": "3.6.5"
  }
 },
 "nbformat": 4,
 "nbformat_minor": 2
}
