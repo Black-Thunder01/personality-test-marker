{
 "cells": [
  {
   "cell_type": "code",
   "execution_count": 1,
   "metadata": {},
   "outputs": [],
   "source": [
    "# import necessary libraries.\n",
    "import pandas as pd\n",
    "import numpy as np\n",
    "import matplotlib.pyplot as plt\n",
    "import plotly\n",
    "plotly.tools.set_credentials_file(username='Johan.khanye', api_key='sy4KJxtUIOpZQxhAsHaw')\n",
    "import plotly.plotly as py\n",
    "# graph objects00\n",
    "import plotly.graph_objs as go\n",
    "from functions.ApplicantsPersonalityFunctions import get_col, create_bar_graph\n",
    "import ipywidgets as widgets"
   ]
  },
  {
   "cell_type": "code",
   "execution_count": 2,
   "metadata": {},
   "outputs": [
    {
     "name": "stdout",
     "output_type": "stream",
     "text": [
      "The dataFrame contains : 158 columns\n",
      "The dataFrame contains : 1493 rows\n"
     ]
    }
   ],
   "source": [
    "df = pd.read_csv('../data/Copy of Applicant Personality Review (Dec 2018) (Responses) - Form Responses 1.csv')\n",
    "print(\"The dataFrame contains :\",len(df.columns),'columns')\n",
    "print(\"The dataFrame contains :\",len(df.index),'rows')"
   ]
  },
  {
   "cell_type": "code",
   "execution_count": 3,
   "metadata": {},
   "outputs": [
    {
     "name": "stdout",
     "output_type": "stream",
     "text": [
      "<class 'pandas.core.frame.DataFrame'>\n",
      "RangeIndex: 1493 entries, 0 to 1492\n",
      "Columns: 158 entries, Timestamp to Are you a South African citizen?\n",
      "dtypes: float64(1), int64(33), object(124)\n",
      "memory usage: 1.8+ MB\n"
     ]
    }
   ],
   "source": [
    "df.info()"
   ]
  },
  {
   "cell_type": "markdown",
   "metadata": {},
   "source": [
    "### Columns"
   ]
  },
  {
   "cell_type": "code",
   "execution_count": 4,
   "metadata": {
    "scrolled": false
   },
   "outputs": [
    {
     "name": "stdout",
     "output_type": "stream",
     "text": [
      "1 Timestamp\n",
      "2 Name \n",
      "3 Surname\n",
      "4 Email Address (the address you have used for Umuzi communications)\n",
      "5 South African ID\n",
      "6 Section 1 of 6 [When someone else is feeling excited, I tend to get excited too]\n",
      "7 Section 1 of 6 [Other people’s misfortunes do not disturb me a great deal.]\n",
      "8 Section 1 of 6 [It upsets me to see someone being treated disrespectfully.]\n",
      "9 Section 1 of 6 [I remain unaffected when someone close to me is happy.]\n",
      "10 Section 1 of 6 [I enjoy making other people feel better]\n",
      "11 Section 1 of 6 [I have tender, concerned feelings for people less fortunate than me.]\n",
      "12 Section 1 of 6 [When a friend starts to talk about his\\her problems, I try to steer the conversation towards something else.]\n",
      "13 Section 1 of 6 [I can tell when others are sad even when they do not say anything.]\n",
      "14 Section 1 of 6 [I find that I am “in tune” with other people’s moods.]\n",
      "15 Section 1 of 6 [I do not feel sympathy for people who cause their own serious illnesses.]\n",
      "16 Section 1 of 6 [I become irritated when someone cries.]\n",
      "17 Section 1 of 6 [I am not really interested in how other people feel.]\n",
      "18 Section 1 of 6 [I get a strong urge to help when I see someone who is upset.]\n",
      "19 Section 1 of 6 [When I see someone being treated unfairly, I do not feel very much pity for them.]\n",
      "20 Section 1 of 6 [I find it silly for people to cry out of happiness.]\n",
      "21 Section 1 of 6 [When I see someone being taken advantage of, I feel kind of protective towards him\\her.]\n",
      "22 Section 2 of 6 [I tend to bounce back quickly after hard times.]\n",
      "23 Section 2 of 6 [I have a hard time making it through stressful events.]\n",
      "24 Section 2 of 6 [It does not take me long to recover from a stressful event.]\n",
      "25 Section 2 of 6 [It is hard for me to snap back when something bad happens.]\n",
      "26 Section 2 of 6 [I usually come through difficult times with little trouble.]\n",
      "27 Section 2 of 6 [I tend to take a long time to get over set-backs in my life.]\n",
      "28 Section 3 of 6 [New ideas and projects sometimes distract me from previous ones.]\n",
      "29 Section 3 of 6 [Setbacks don’t discourage me. I don’t give up easily.]\n",
      "30 Section 3 of 6 [I often set a goal but later choose to pursue a different one.]\n",
      "31 Section 3 of 6 [I am a hard worker.]\n",
      "32 Section 3 of 6 [I have difficulty maintaining my focus on projects that take more than a few months to complete.]\n",
      "33 Section 3 of 6 [I finish whatever I begin.]\n",
      "34 Section 3 of 6 [My interests change from year to year.]\n",
      "35 Section 3 of 6 [I am diligent. I never give up.]\n",
      "36 Section 3 of 6 [I have been obsessed with a certain idea or project for a short time but later lost interest.]\n",
      "37 Section 3 of 6 [I have overcome setbacks to conquer an important challenge.]\n",
      "38 Section 4 of 6 [I find it difficult to read and understand maps.]\n",
      "39 Section 4 of 6 [I find it easy to grasp exactly how odds work in betting.]\n",
      "40 Section 4 of 6 [I find it difficult to understand information the bank sends me on different investment and saving systems.]\n",
      "41 Section 4 of 6 [I do not enjoy games that involve a high degree of strategy (e.g. chess, Risk, poker)]\n",
      "42 Section 4 of 6 [I am fascinated by how machines work.]\n",
      "43 Section 4 of 6 [I find it difficult to understand instruction manuals for putting appliances together.]\n",
      "44 Section 4 of 6 [If I were buying a computer, I would want to know exact details about its hard disc drive capacity and processor speed.]\n",
      "45 Section 4 of 6 [If I were buying a hifi, I would want to know about its precise technical features.]\n",
      "46 Section 4 of 6 [I can easily visualize how the highways in my area link up.]\n",
      "47 Section 4 of 6 [I do not enjoy in-depth political discussions.]\n",
      "48 Section 5 of 6 [I am the life of the party.]\n",
      "49 Section 5 of 6 [I feel little concern for others.]\n",
      "50 Section 5 of 6 [I am always prepared.]\n",
      "51 Section 5 of 6 [I get stressed out easily.]\n",
      "52 Section 5 of 6 [I have a rich vocabulary.]\n",
      "53 Section 5 of 6 [I don't talk a lot.]\n",
      "54 Section 5 of 6 [I am interested in people.]\n",
      "55 Section 5 of 6 [I leave my belongings lying around.]\n",
      "56 Section 5 of 6 [I am relaxed most of the time.]\n",
      "57 Section 5 of 6 [I have difficulty understanding abstract ideas.]\n",
      "58 Section 5 of 6 [I feel comfortable around people.]\n",
      "59 Section 5 of 6 [I insult people.]\n",
      "60 Section 5 of 6 [I pay attention to details.]\n",
      "61 Section 5 of 6 [I worry about things.]\n",
      "62 Section 5 of 6 [I have a vivid imagination.]\n",
      "63 Section 5 of 6 [I keep in the background.]\n",
      "64 Section 5 of 6 [I sympathize with others' feelings.]\n",
      "65 Section 5 of 6 [I make a mess of things.]\n",
      "66 Section 5 of 6 [I seldom feel blue (down).]\n",
      "67 Section 5 of 6 [I am not interested in abstract ideas.]\n",
      "68 Section 5 of 6 [I start conversations.]\n",
      "69 Section 5 of 6 [I am not interested in other people's problems.]\n",
      "70 Section 5 of 6 [I get chores done right away.]\n",
      "71 Section 5 of 6 [I am easily disturbed.]\n",
      "72 Section 5 of 6 [I have excellent ideas.]\n",
      "73 Section 5 of 6 [I have little to say.]\n",
      "74 Section 5 of 6 [I have a soft (kind) heart.]\n",
      "75 Section 5 of 6 [I often forget to put things back in their proper place]\n",
      "76 Section 5 of 6 [I get upset easily.]\n",
      "77 Section 5 of 6 [I do not have a good imagination.]\n",
      "78 Section 5 of 6 [I talk to a lot of different people at parties.]\n",
      "79 Section 5 of 6 [I am not really interested in others.]\n",
      "80 Section 5 of 6 [I like order.]\n",
      "81 Section 5 of 6 [I change my mood a lot.]\n",
      "82 Section 5 of 6 [I am quick to understand things.]\n",
      "83 Section 5 of 6 [I don't like to draw attention to myself.]\n",
      "84 Section 5 of 6 [I take time out for others.]\n",
      "85 Section 5 of 6 [I neglect my duties.]\n",
      "86 Section 5 of 6 [I have frequent mood swings.]\n",
      "87 Section 5 of 6 [I use difficult words.]\n",
      "88 Section 5 of 6 [I don't mind being the center of attention.]\n",
      "89 Section 5 of 6 [I feel others' emotions.]\n",
      "90 Section 5 of 6 [I follow a schedule.]\n",
      "91 Section 5 of 6 [I get irritated easily.]\n",
      "92 Section 5 of 6 [I spend time reflecting on things.]\n",
      "93 Section 5 of 6 [I am quiet around strangers.]\n",
      "94 Section 5 of 6 [I make people feel at ease.]\n",
      "95 Section 5 of 6 [I am exacting (demanding) in my work.]\n",
      "96 Section 5 of 6 [I often feel blue (down).]\n",
      "97 Section 5 of 6 [I am full of ideas.]\n",
      "98 Part 1 : Opposing Descriptions [Makes lists |  Relies on memory]\n",
      "99 Part 1 : Opposing Descriptions [Sceptical | Wants to believe]\n",
      "100 Part 1 : Opposing Descriptions [Bored by time alone | Needs time alone]\n",
      "101 Part 1 : Opposing Descriptions [Accepts things as they are | Unsatisfied with the way things are]\n",
      "102 Part 1 : Opposing Descriptions [Keeps a clean room | just puts stuff where ever]\n",
      "103 Part 1 : Opposing Descriptions [Thinks \"robotic\" is an insult | Strives to have a mechanical mind]\n",
      "104 Part 1 : Opposing Descriptions [Energetic | Mellow]\n",
      "105 Part 1 : Opposing Descriptions [Prefer to take multiple choice test | Prefer essay answers]\n",
      "106 Part 1 : Opposing Descriptions [Chaotic | Organized]\n",
      "107 Part 1 : Opposing Descriptions [Easily hurt | Thick-skinned]\n",
      "108 Part 1 : Opposing Descriptions [Works best in groups | Works best alone]\n",
      "109 Part 1 : Opposing Descriptions [Focused on the present | Focused on the future]\n",
      "110 Part 1 : Opposing Descriptions [Plans far ahead | Plans at the last minute]\n",
      "111 Part 1 : Opposing Descriptions [Wants people's respect | Wants their love]\n",
      "112 Part 1 : Opposing Descriptions [Gets worn out by parties | Gets fired up by parties]\n",
      "113 Part 1 : Opposing Descriptions [Fits in | Stands out]\n",
      "114 Part 1 : Opposing Descriptions [Keeps options open | Commits]\n",
      "115 Part 1 : Opposing Descriptions [Wants to be good at fixing things | Wants to be good at fixing people]\n",
      "116 Part 1 : Opposing Descriptions [Talks more | Listens more]\n",
      "117 Part 1 : Opposing Descriptions [When describing an event, will tell people what happened | When describing an event, will tell people what it meant]\n",
      "118 Part 1 : Opposing Descriptions [Gets work done right away | Procrastinates]\n",
      "119 Part 1 : Opposing Descriptions [Follows the heart | Follows the head]\n",
      "120 Part 1 : Opposing Descriptions [Stays at home | Goes out on the town]\n",
      "121 Part 1 : Opposing Descriptions [Wants the big picture | Wants the details]\n",
      "122 Part 1 : Opposing Descriptions [Improvises | Prepares]\n",
      "123 Part 1 : Opposing Descriptions [Bases morality on justice | Bases morality on compassion]\n",
      "124 Part 1 : Opposing Descriptions [Finds it difficult to yell very loudly |  Yelling to others when they are far away comes naturally]\n",
      "125 Part 1 : Opposing Descriptions [Theoretical (Abstract) | Empirical (Practical)]\n",
      "126 Part 1 : Opposing Descriptions [Works hard |  Plays hard]\n",
      "127 Part 1 : Opposing Descriptions [Uncomfortable with emotions |  Values emotions]\n",
      "128 Part 1 : Opposing Descriptions [Likes to perform in front of other people | Avoids public speaking]\n",
      "129 Part 1 : Opposing Descriptions [Likes to know \"who?\", \"what?\", \"when?\" | Likes to know \"why?\"]\n",
      "130 Part 2 : Personal Truths [I would show up at a friends music show even if I thought it was going to be bad.]\n",
      "131 Part 2 : Personal Truths [I can read people like a book.]\n",
      "132 Part 2 : Personal Truths [I can say things beautifully.]\n",
      "133 Part 2 : Personal Truths [I am ticklish.]\n",
      "134 Part 2 : Personal Truths [I am an extremely loyal person.]\n",
      "135 Part 2 : Personal Truths [I sing to myself.]\n",
      "136 Part 2 : Personal Truths [I speak up for what I think is right.]\n",
      "137 Part 2 : Personal Truths [I prefer to socialize 1 on 1, than with a group.]\n",
      "138 Part 2 : Personal Truths [I have never used a racist slur.]\n",
      "139 Part 2 : Personal Truths [I reveal intimate details of my life easily.]\n",
      "140 Part 2 : Personal Truths [I don‘t think men and women can be ‘just friends'.]\n",
      "141 Part 2 : Personal Truths [I ask others‘ advice about my person life.]\n",
      "142 Part 2 : Personal Truths [I like having people over for dinner in my home frequently..]\n",
      "143 Part 2 : Personal Truths [I like to use difficult words.]\n",
      "144 Part 2 : Personal Truths [I watch crime dramas.]\n",
      "145 Part 2 : Personal Truths [I enjoy a wide variety of music.]\n",
      "146 Part 2 : Personal Truths [I do not care much about manners.]\n",
      "147 Part 2 : Personal Truths [I think the population of the world needs to be reduced.]\n",
      "148 Part 2 : Personal Truths [I can‘t stand aggressive people]\n",
      "149 Part 2 : Personal Truths [I make jokes about intellectual disability.]\n",
      "150 Part 2 : Personal Truths [I have little patience for slackers.]\n",
      "151 Part 2 : Personal Truths [I eat sweets.]\n",
      "152 Part 2 : Personal Truths [I would not like my child to marry someone of a different race.]\n",
      "153 Part 2 : Personal Truths [I often forget what day it is.]\n",
      "154 Part 2 : Personal Truths [I don‘t strive for elegance in my appearance.]\n",
      "155 Part 2 : Personal Truths [I feel that most people are genuine.]\n",
      "156 Part 2 : Personal Truths [I went through a phase where I was interested in the occult (supernatural).]\n",
      "157 Part 2 : Personal Truths [I would make a good journalist.]\n",
      "158 Are you a South African citizen?\n"
     ]
    }
   ],
   "source": [
    "index = 0\n",
    "for col in df.columns:\n",
    "    index+=1\n",
    "    print(index, col)"
   ]
  },
  {
   "cell_type": "code",
   "execution_count": 6,
   "metadata": {},
   "outputs": [
    {
     "data": {
      "text/plain": [
       "(array([], dtype=int64), array([], dtype=int64))"
      ]
     },
     "execution_count": 6,
     "metadata": {},
     "output_type": "execute_result"
    }
   ],
   "source": [
    "# Check for null values\n",
    "np.where(pd.isnull(df.drop(['Are you a South African citizen?'], axis=1)))"
   ]
  },
  {
   "cell_type": "markdown",
   "metadata": {},
   "source": [
    "### Understanding data types"
   ]
  },
  {
   "cell_type": "code",
   "execution_count": 7,
   "metadata": {
    "scrolled": true
   },
   "outputs": [
    {
     "name": "stdout",
     "output_type": "stream",
     "text": [
      "[dtype('int64') dtype('float64') dtype('O')]\n"
     ]
    }
   ],
   "source": [
    "dtypes = [datatype for datatype in df.dtypes]\n",
    "print(np.unique(dtypes))"
   ]
  },
  {
   "cell_type": "markdown",
   "metadata": {},
   "source": [
    "#### fix data type for categorical data types"
   ]
  },
  {
   "cell_type": "code",
   "execution_count": 27,
   "metadata": {
    "scrolled": false
   },
   "outputs": [],
   "source": [
    "# set categorical columns dtype=category\n",
    "for col in df.columns:\n",
    "    if len(np.unique(df[col])) < 6:\n",
    "        categorical_columns = pd.Categorical(np.array(df[col]),ordered=False)\n",
    "        df[col] = categorical_columns"
   ]
  },
  {
   "cell_type": "code",
   "execution_count": 9,
   "metadata": {},
   "outputs": [
    {
     "name": "stdout",
     "output_type": "stream",
     "text": [
      "<class 'pandas.core.frame.DataFrame'>\n",
      "RangeIndex: 1493 entries, 0 to 1492\n",
      "Columns: 158 entries, Timestamp to Are you a South African citizen?\n",
      "dtypes: category(152), float64(1), int64(1), object(4)\n",
      "memory usage: 314.0+ KB\n"
     ]
    }
   ],
   "source": [
    "# Check if data types are fixed\n",
    "df.info()"
   ]
  },
  {
   "cell_type": "markdown",
   "metadata": {},
   "source": [
    "### Total Results of applications by question"
   ]
  },
  {
   "cell_type": "code",
   "execution_count": 51,
   "metadata": {},
   "outputs": [],
   "source": [
    "# Create drop down menu to select column of interest.\n",
    "\n",
    "# get categorical columns.\n",
    "column_opts = [col for col in df.columns if len(np.unique(df[col])) < 6];\n",
    "\n",
    "# create dropdown widget.\n",
    "Choose_column = widgets.Dropdown(\n",
    "    options=column_opts,\n",
    "    value='Section 1 of 6 [When someone else is feeling excited, I tend to get excited too]',\n",
    "    description='column:',\n",
    "    disabled=False)"
   ]
  },
  {
   "cell_type": "code",
   "execution_count": 53,
   "metadata": {},
   "outputs": [
    {
     "data": {
      "application/vnd.jupyter.widget-view+json": {
       "model_id": "6cb6b65a2abb416295a5393a767f6b3e",
       "version_major": 2,
       "version_minor": 0
      },
      "text/plain": [
       "Dropdown(description='column:', options=('Section 1 of 6 [When someone else is feeling excited, I tend to get …"
      ]
     },
     "metadata": {},
     "output_type": "display_data"
    }
   ],
   "source": [
    "Choose_column"
   ]
  },
  {
   "cell_type": "code",
   "execution_count": 54,
   "metadata": {},
   "outputs": [
    {
     "name": "stdout",
     "output_type": "stream",
     "text": [
      "High five! You successfully sent some data to your account on plotly. View your plot in your browser at https://plot.ly/~Johan.khanye/0 or inside your plot.ly account where it is named 'share_excitement-bar'\n"
     ]
    },
    {
     "data": {
      "text/html": [
       "<iframe id=\"igraph\" scrolling=\"no\" style=\"border:none;\" seamless=\"seamless\" src=\"https://plot.ly/~Johan.khanye/0.embed\" height=\"525px\" width=\"100%\"></iframe>"
      ],
      "text/plain": [
       "<plotly.tools.PlotlyDisplay object>"
      ]
     },
     "execution_count": 54,
     "metadata": {},
     "output_type": "execute_result"
    }
   ],
   "source": [
    "chosen_col = Choose_column.value\n",
    "create_bar_graph(df, chosen_col)"
   ]
  },
  {
   "cell_type": "markdown",
   "metadata": {},
   "source": [
    "## Total Results "
   ]
  }
 ],
 "metadata": {
  "kernelspec": {
   "display_name": "Python 3",
   "language": "python",
   "name": "python3"
  },
  "language_info": {
   "codemirror_mode": {
    "name": "ipython",
    "version": 3
   },
   "file_extension": ".py",
   "mimetype": "text/x-python",
   "name": "python",
   "nbconvert_exporter": "python",
   "pygments_lexer": "ipython3",
   "version": "3.6.5"
  }
 },
 "nbformat": 4,
 "nbformat_minor": 2
}
