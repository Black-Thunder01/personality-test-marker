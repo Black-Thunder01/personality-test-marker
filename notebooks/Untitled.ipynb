{
 "cells": [
  {
   "cell_type": "code",
   "execution_count": 1,
   "metadata": {},
   "outputs": [],
   "source": [
    "# import necessary libraries.\n",
    "import pandas as pd\n",
    "import numpy as np\n",
    "import matplotlib.pyplot as plt\n",
    "import plotly\n",
    "plotly.tools.set_credentials_file(username='Johan.khanye', api_key='sy4KJxtUIOpZQxhAsHaw')\n",
    "import plotly.plotly as py\n",
    "# graph objects00\n",
    "import plotly.graph_objs as go"
   ]
  },
  {
   "cell_type": "code",
   "execution_count": 2,
   "metadata": {},
   "outputs": [
    {
     "name": "stdout",
     "output_type": "stream",
     "text": [
      "The dataFrame contains : 158 columns\n",
      "The dataFrame contains : 1493 rows\n"
     ]
    }
   ],
   "source": [
    "df = pd.read_csv('../data/Copy of Applicant Personality Review (Dec 2018) (Responses) - Form Responses 1.csv')\n",
    "print(\"The dataFrame contains :\",len(df.columns),'columns')\n",
    "print(\"The dataFrame contains :\",len(df.index),'rows')"
   ]
  },
  {
   "cell_type": "code",
   "execution_count": 3,
   "metadata": {},
   "outputs": [
    {
     "name": "stdout",
     "output_type": "stream",
     "text": [
      "<class 'pandas.core.frame.DataFrame'>\n",
      "RangeIndex: 1493 entries, 0 to 1492\n",
      "Columns: 158 entries, Timestamp to Are you a South African citizen?\n",
      "dtypes: float64(1), int64(33), object(124)\n",
      "memory usage: 1.8+ MB\n"
     ]
    }
   ],
   "source": [
    "df.info()"
   ]
  },
  {
   "cell_type": "markdown",
   "metadata": {},
   "source": [
    "### Columns"
   ]
  },
  {
   "cell_type": "code",
   "execution_count": 4,
   "metadata": {
    "scrolled": false
   },
   "outputs": [
    {
     "name": "stdout",
     "output_type": "stream",
     "text": [
      "1 Timestamp\n",
      "2 Name \n",
      "3 Surname\n",
      "4 Email Address (the address you have used for Umuzi communications)\n",
      "5 South African ID\n",
      "6 Section 1 of 6 [When someone else is feeling excited, I tend to get excited too]\n",
      "7 Section 1 of 6 [Other people’s misfortunes do not disturb me a great deal.]\n",
      "8 Section 1 of 6 [It upsets me to see someone being treated disrespectfully.]\n",
      "9 Section 1 of 6 [I remain unaffected when someone close to me is happy.]\n",
      "10 Section 1 of 6 [I enjoy making other people feel better]\n",
      "11 Section 1 of 6 [I have tender, concerned feelings for people less fortunate than me.]\n",
      "12 Section 1 of 6 [When a friend starts to talk about his\\her problems, I try to steer the conversation towards something else.]\n",
      "13 Section 1 of 6 [I can tell when others are sad even when they do not say anything.]\n",
      "14 Section 1 of 6 [I find that I am “in tune” with other people’s moods.]\n",
      "15 Section 1 of 6 [I do not feel sympathy for people who cause their own serious illnesses.]\n",
      "16 Section 1 of 6 [I become irritated when someone cries.]\n",
      "17 Section 1 of 6 [I am not really interested in how other people feel.]\n",
      "18 Section 1 of 6 [I get a strong urge to help when I see someone who is upset.]\n",
      "19 Section 1 of 6 [When I see someone being treated unfairly, I do not feel very much pity for them.]\n",
      "20 Section 1 of 6 [I find it silly for people to cry out of happiness.]\n",
      "21 Section 1 of 6 [When I see someone being taken advantage of, I feel kind of protective towards him\\her.]\n",
      "22 Section 2 of 6 [I tend to bounce back quickly after hard times.]\n",
      "23 Section 2 of 6 [I have a hard time making it through stressful events.]\n",
      "24 Section 2 of 6 [It does not take me long to recover from a stressful event.]\n",
      "25 Section 2 of 6 [It is hard for me to snap back when something bad happens.]\n",
      "26 Section 2 of 6 [I usually come through difficult times with little trouble.]\n",
      "27 Section 2 of 6 [I tend to take a long time to get over set-backs in my life.]\n",
      "28 Section 3 of 6 [New ideas and projects sometimes distract me from previous ones.]\n",
      "29 Section 3 of 6 [Setbacks don’t discourage me. I don’t give up easily.]\n",
      "30 Section 3 of 6 [I often set a goal but later choose to pursue a different one.]\n",
      "31 Section 3 of 6 [I am a hard worker.]\n",
      "32 Section 3 of 6 [I have difficulty maintaining my focus on projects that take more than a few months to complete.]\n",
      "33 Section 3 of 6 [I finish whatever I begin.]\n",
      "34 Section 3 of 6 [My interests change from year to year.]\n",
      "35 Section 3 of 6 [I am diligent. I never give up.]\n",
      "36 Section 3 of 6 [I have been obsessed with a certain idea or project for a short time but later lost interest.]\n",
      "37 Section 3 of 6 [I have overcome setbacks to conquer an important challenge.]\n",
      "38 Section 4 of 6 [I find it difficult to read and understand maps.]\n",
      "39 Section 4 of 6 [I find it easy to grasp exactly how odds work in betting.]\n",
      "40 Section 4 of 6 [I find it difficult to understand information the bank sends me on different investment and saving systems.]\n",
      "41 Section 4 of 6 [I do not enjoy games that involve a high degree of strategy (e.g. chess, Risk, poker)]\n",
      "42 Section 4 of 6 [I am fascinated by how machines work.]\n",
      "43 Section 4 of 6 [I find it difficult to understand instruction manuals for putting appliances together.]\n",
      "44 Section 4 of 6 [If I were buying a computer, I would want to know exact details about its hard disc drive capacity and processor speed.]\n",
      "45 Section 4 of 6 [If I were buying a hifi, I would want to know about its precise technical features.]\n",
      "46 Section 4 of 6 [I can easily visualize how the highways in my area link up.]\n",
      "47 Section 4 of 6 [I do not enjoy in-depth political discussions.]\n",
      "48 Section 5 of 6 [I am the life of the party.]\n",
      "49 Section 5 of 6 [I feel little concern for others.]\n",
      "50 Section 5 of 6 [I am always prepared.]\n",
      "51 Section 5 of 6 [I get stressed out easily.]\n",
      "52 Section 5 of 6 [I have a rich vocabulary.]\n",
      "53 Section 5 of 6 [I don't talk a lot.]\n",
      "54 Section 5 of 6 [I am interested in people.]\n",
      "55 Section 5 of 6 [I leave my belongings lying around.]\n",
      "56 Section 5 of 6 [I am relaxed most of the time.]\n",
      "57 Section 5 of 6 [I have difficulty understanding abstract ideas.]\n",
      "58 Section 5 of 6 [I feel comfortable around people.]\n",
      "59 Section 5 of 6 [I insult people.]\n",
      "60 Section 5 of 6 [I pay attention to details.]\n",
      "61 Section 5 of 6 [I worry about things.]\n",
      "62 Section 5 of 6 [I have a vivid imagination.]\n",
      "63 Section 5 of 6 [I keep in the background.]\n",
      "64 Section 5 of 6 [I sympathize with others' feelings.]\n",
      "65 Section 5 of 6 [I make a mess of things.]\n",
      "66 Section 5 of 6 [I seldom feel blue (down).]\n",
      "67 Section 5 of 6 [I am not interested in abstract ideas.]\n",
      "68 Section 5 of 6 [I start conversations.]\n",
      "69 Section 5 of 6 [I am not interested in other people's problems.]\n",
      "70 Section 5 of 6 [I get chores done right away.]\n",
      "71 Section 5 of 6 [I am easily disturbed.]\n",
      "72 Section 5 of 6 [I have excellent ideas.]\n",
      "73 Section 5 of 6 [I have little to say.]\n",
      "74 Section 5 of 6 [I have a soft (kind) heart.]\n",
      "75 Section 5 of 6 [I often forget to put things back in their proper place]\n",
      "76 Section 5 of 6 [I get upset easily.]\n",
      "77 Section 5 of 6 [I do not have a good imagination.]\n",
      "78 Section 5 of 6 [I talk to a lot of different people at parties.]\n",
      "79 Section 5 of 6 [I am not really interested in others.]\n",
      "80 Section 5 of 6 [I like order.]\n",
      "81 Section 5 of 6 [I change my mood a lot.]\n",
      "82 Section 5 of 6 [I am quick to understand things.]\n",
      "83 Section 5 of 6 [I don't like to draw attention to myself.]\n",
      "84 Section 5 of 6 [I take time out for others.]\n",
      "85 Section 5 of 6 [I neglect my duties.]\n",
      "86 Section 5 of 6 [I have frequent mood swings.]\n",
      "87 Section 5 of 6 [I use difficult words.]\n",
      "88 Section 5 of 6 [I don't mind being the center of attention.]\n",
      "89 Section 5 of 6 [I feel others' emotions.]\n",
      "90 Section 5 of 6 [I follow a schedule.]\n",
      "91 Section 5 of 6 [I get irritated easily.]\n",
      "92 Section 5 of 6 [I spend time reflecting on things.]\n",
      "93 Section 5 of 6 [I am quiet around strangers.]\n",
      "94 Section 5 of 6 [I make people feel at ease.]\n",
      "95 Section 5 of 6 [I am exacting (demanding) in my work.]\n",
      "96 Section 5 of 6 [I often feel blue (down).]\n",
      "97 Section 5 of 6 [I am full of ideas.]\n",
      "98 Part 1 : Opposing Descriptions [Makes lists |  Relies on memory]\n",
      "99 Part 1 : Opposing Descriptions [Sceptical | Wants to believe]\n",
      "100 Part 1 : Opposing Descriptions [Bored by time alone | Needs time alone]\n",
      "101 Part 1 : Opposing Descriptions [Accepts things as they are | Unsatisfied with the way things are]\n",
      "102 Part 1 : Opposing Descriptions [Keeps a clean room | just puts stuff where ever]\n",
      "103 Part 1 : Opposing Descriptions [Thinks \"robotic\" is an insult | Strives to have a mechanical mind]\n",
      "104 Part 1 : Opposing Descriptions [Energetic | Mellow]\n",
      "105 Part 1 : Opposing Descriptions [Prefer to take multiple choice test | Prefer essay answers]\n",
      "106 Part 1 : Opposing Descriptions [Chaotic | Organized]\n",
      "107 Part 1 : Opposing Descriptions [Easily hurt | Thick-skinned]\n",
      "108 Part 1 : Opposing Descriptions [Works best in groups | Works best alone]\n",
      "109 Part 1 : Opposing Descriptions [Focused on the present | Focused on the future]\n",
      "110 Part 1 : Opposing Descriptions [Plans far ahead | Plans at the last minute]\n",
      "111 Part 1 : Opposing Descriptions [Wants people's respect | Wants their love]\n",
      "112 Part 1 : Opposing Descriptions [Gets worn out by parties | Gets fired up by parties]\n",
      "113 Part 1 : Opposing Descriptions [Fits in | Stands out]\n",
      "114 Part 1 : Opposing Descriptions [Keeps options open | Commits]\n",
      "115 Part 1 : Opposing Descriptions [Wants to be good at fixing things | Wants to be good at fixing people]\n",
      "116 Part 1 : Opposing Descriptions [Talks more | Listens more]\n",
      "117 Part 1 : Opposing Descriptions [When describing an event, will tell people what happened | When describing an event, will tell people what it meant]\n",
      "118 Part 1 : Opposing Descriptions [Gets work done right away | Procrastinates]\n",
      "119 Part 1 : Opposing Descriptions [Follows the heart | Follows the head]\n",
      "120 Part 1 : Opposing Descriptions [Stays at home | Goes out on the town]\n",
      "121 Part 1 : Opposing Descriptions [Wants the big picture | Wants the details]\n",
      "122 Part 1 : Opposing Descriptions [Improvises | Prepares]\n",
      "123 Part 1 : Opposing Descriptions [Bases morality on justice | Bases morality on compassion]\n",
      "124 Part 1 : Opposing Descriptions [Finds it difficult to yell very loudly |  Yelling to others when they are far away comes naturally]\n",
      "125 Part 1 : Opposing Descriptions [Theoretical (Abstract) | Empirical (Practical)]\n",
      "126 Part 1 : Opposing Descriptions [Works hard |  Plays hard]\n",
      "127 Part 1 : Opposing Descriptions [Uncomfortable with emotions |  Values emotions]\n",
      "128 Part 1 : Opposing Descriptions [Likes to perform in front of other people | Avoids public speaking]\n",
      "129 Part 1 : Opposing Descriptions [Likes to know \"who?\", \"what?\", \"when?\" | Likes to know \"why?\"]\n",
      "130 Part 2 : Personal Truths [I would show up at a friends music show even if I thought it was going to be bad.]\n",
      "131 Part 2 : Personal Truths [I can read people like a book.]\n",
      "132 Part 2 : Personal Truths [I can say things beautifully.]\n",
      "133 Part 2 : Personal Truths [I am ticklish.]\n",
      "134 Part 2 : Personal Truths [I am an extremely loyal person.]\n",
      "135 Part 2 : Personal Truths [I sing to myself.]\n",
      "136 Part 2 : Personal Truths [I speak up for what I think is right.]\n",
      "137 Part 2 : Personal Truths [I prefer to socialize 1 on 1, than with a group.]\n",
      "138 Part 2 : Personal Truths [I have never used a racist slur.]\n",
      "139 Part 2 : Personal Truths [I reveal intimate details of my life easily.]\n",
      "140 Part 2 : Personal Truths [I don‘t think men and women can be ‘just friends'.]\n",
      "141 Part 2 : Personal Truths [I ask others‘ advice about my person life.]\n",
      "142 Part 2 : Personal Truths [I like having people over for dinner in my home frequently..]\n",
      "143 Part 2 : Personal Truths [I like to use difficult words.]\n",
      "144 Part 2 : Personal Truths [I watch crime dramas.]\n",
      "145 Part 2 : Personal Truths [I enjoy a wide variety of music.]\n",
      "146 Part 2 : Personal Truths [I do not care much about manners.]\n",
      "147 Part 2 : Personal Truths [I think the population of the world needs to be reduced.]\n",
      "148 Part 2 : Personal Truths [I can‘t stand aggressive people]\n",
      "149 Part 2 : Personal Truths [I make jokes about intellectual disability.]\n",
      "150 Part 2 : Personal Truths [I have little patience for slackers.]\n",
      "151 Part 2 : Personal Truths [I eat sweets.]\n",
      "152 Part 2 : Personal Truths [I would not like my child to marry someone of a different race.]\n",
      "153 Part 2 : Personal Truths [I often forget what day it is.]\n",
      "154 Part 2 : Personal Truths [I don‘t strive for elegance in my appearance.]\n",
      "155 Part 2 : Personal Truths [I feel that most people are genuine.]\n",
      "156 Part 2 : Personal Truths [I went through a phase where I was interested in the occult (supernatural).]\n",
      "157 Part 2 : Personal Truths [I would make a good journalist.]\n",
      "158 Are you a South African citizen?\n"
     ]
    }
   ],
   "source": [
    "index = 0\n",
    "for col in df.columns:\n",
    "    index+=1\n",
    "    print(index, col)"
   ]
  },
  {
   "cell_type": "code",
   "execution_count": 16,
   "metadata": {},
   "outputs": [
    {
     "data": {
      "text/html": [
       "<div>\n",
       "<style scoped>\n",
       "    .dataframe tbody tr th:only-of-type {\n",
       "        vertical-align: middle;\n",
       "    }\n",
       "\n",
       "    .dataframe tbody tr th {\n",
       "        vertical-align: top;\n",
       "    }\n",
       "\n",
       "    .dataframe thead th {\n",
       "        text-align: right;\n",
       "    }\n",
       "</style>\n",
       "<table border=\"1\" class=\"dataframe\">\n",
       "  <thead>\n",
       "    <tr style=\"text-align: right;\">\n",
       "      <th></th>\n",
       "      <th>Timestamp</th>\n",
       "      <th>Name</th>\n",
       "      <th>Surname</th>\n",
       "      <th>Email Address (the address you have used for Umuzi communications)</th>\n",
       "      <th>South African ID</th>\n",
       "      <th>Section 1 of 6 [When someone else is feeling excited, I tend to get excited too]</th>\n",
       "      <th>Section 1 of 6 [Other people’s misfortunes do not disturb me a great deal.]</th>\n",
       "      <th>Section 1 of 6 [It upsets me to see someone being treated disrespectfully.]</th>\n",
       "      <th>Section 1 of 6 [I remain unaffected when someone close to me is happy.]</th>\n",
       "      <th>Section 1 of 6 [I enjoy making other people feel better]</th>\n",
       "      <th>...</th>\n",
       "      <th>Part 2 : Personal Truths [I make jokes about intellectual disability.]</th>\n",
       "      <th>Part 2 : Personal Truths [I have little patience for slackers.]</th>\n",
       "      <th>Part 2 : Personal Truths [I eat sweets.]</th>\n",
       "      <th>Part 2 : Personal Truths [I would not like my child to marry someone of a different race.]</th>\n",
       "      <th>Part 2 : Personal Truths [I often forget what day it is.]</th>\n",
       "      <th>Part 2 : Personal Truths [I don‘t strive for elegance in my appearance.]</th>\n",
       "      <th>Part 2 : Personal Truths [I feel that most people are genuine.]</th>\n",
       "      <th>Part 2 : Personal Truths [I went through a phase where I was interested in the occult (supernatural).]</th>\n",
       "      <th>Part 2 : Personal Truths [I would make a good journalist.]</th>\n",
       "      <th>Are you a South African citizen?</th>\n",
       "    </tr>\n",
       "  </thead>\n",
       "  <tbody>\n",
       "    <tr>\n",
       "      <th>0</th>\n",
       "      <td>12/12/2018 15:21:54</td>\n",
       "      <td>Ruddy kamogelo</td>\n",
       "      <td>Moeketsana</td>\n",
       "      <td>kamogeloruddy@gmail.com</td>\n",
       "      <td>9403266006086</td>\n",
       "      <td>Often</td>\n",
       "      <td>Always</td>\n",
       "      <td>Always</td>\n",
       "      <td>Always</td>\n",
       "      <td>Always</td>\n",
       "      <td>...</td>\n",
       "      <td>Disagree</td>\n",
       "      <td>Disagree</td>\n",
       "      <td>Agree</td>\n",
       "      <td>Disagree</td>\n",
       "      <td>Agree</td>\n",
       "      <td>Neutral</td>\n",
       "      <td>Neutral</td>\n",
       "      <td>Neutral</td>\n",
       "      <td>Agree</td>\n",
       "      <td>NaN</td>\n",
       "    </tr>\n",
       "    <tr>\n",
       "      <th>1</th>\n",
       "      <td>12/12/2018 15:27:24</td>\n",
       "      <td>Marie</td>\n",
       "      <td>Mkizwana</td>\n",
       "      <td>m.mkizwana@gmail.com</td>\n",
       "      <td>9605290421087</td>\n",
       "      <td>Always</td>\n",
       "      <td>Often</td>\n",
       "      <td>Often</td>\n",
       "      <td>Rarely</td>\n",
       "      <td>Often</td>\n",
       "      <td>...</td>\n",
       "      <td>Disagree</td>\n",
       "      <td>Neutral</td>\n",
       "      <td>Agree</td>\n",
       "      <td>Disagree</td>\n",
       "      <td>Neutral</td>\n",
       "      <td>Neutral</td>\n",
       "      <td>Agree</td>\n",
       "      <td>Neutral</td>\n",
       "      <td>Neutral</td>\n",
       "      <td>NaN</td>\n",
       "    </tr>\n",
       "    <tr>\n",
       "      <th>2</th>\n",
       "      <td>12/12/2018 15:35:21</td>\n",
       "      <td>Nontando</td>\n",
       "      <td>Nziyana</td>\n",
       "      <td>nontandonziyana280@gmail.com</td>\n",
       "      <td>9508280403083</td>\n",
       "      <td>Often</td>\n",
       "      <td>Rarely</td>\n",
       "      <td>Often</td>\n",
       "      <td>Never</td>\n",
       "      <td>Sometimes</td>\n",
       "      <td>...</td>\n",
       "      <td>Disagree</td>\n",
       "      <td>Neutral</td>\n",
       "      <td>Agree</td>\n",
       "      <td>Disagree</td>\n",
       "      <td>Disagree</td>\n",
       "      <td>Neutral</td>\n",
       "      <td>Neutral</td>\n",
       "      <td>Agree</td>\n",
       "      <td>Neutral</td>\n",
       "      <td>NaN</td>\n",
       "    </tr>\n",
       "    <tr>\n",
       "      <th>3</th>\n",
       "      <td>12/12/2018 15:38:12</td>\n",
       "      <td>Sibusiso</td>\n",
       "      <td>Manana</td>\n",
       "      <td>s.manana001@gmail.com</td>\n",
       "      <td>9501015590084</td>\n",
       "      <td>Rarely</td>\n",
       "      <td>Never</td>\n",
       "      <td>Sometimes</td>\n",
       "      <td>Sometimes</td>\n",
       "      <td>Sometimes</td>\n",
       "      <td>...</td>\n",
       "      <td>Disagree</td>\n",
       "      <td>Neutral</td>\n",
       "      <td>Agree</td>\n",
       "      <td>Neutral</td>\n",
       "      <td>Neutral</td>\n",
       "      <td>Agree</td>\n",
       "      <td>Agree</td>\n",
       "      <td>Disagree</td>\n",
       "      <td>Disagree</td>\n",
       "      <td>NaN</td>\n",
       "    </tr>\n",
       "    <tr>\n",
       "      <th>4</th>\n",
       "      <td>12/12/2018 15:38:42</td>\n",
       "      <td>Khabonina</td>\n",
       "      <td>Khumalo</td>\n",
       "      <td>khabo25@live.com</td>\n",
       "      <td>9405050161084</td>\n",
       "      <td>Sometimes</td>\n",
       "      <td>Rarely</td>\n",
       "      <td>Often</td>\n",
       "      <td>Rarely</td>\n",
       "      <td>Always</td>\n",
       "      <td>...</td>\n",
       "      <td>Disagree</td>\n",
       "      <td>Agree</td>\n",
       "      <td>Agree</td>\n",
       "      <td>Neutral</td>\n",
       "      <td>Disagree</td>\n",
       "      <td>Disagree</td>\n",
       "      <td>Neutral</td>\n",
       "      <td>Agree</td>\n",
       "      <td>Agree</td>\n",
       "      <td>NaN</td>\n",
       "    </tr>\n",
       "  </tbody>\n",
       "</table>\n",
       "<p>5 rows × 158 columns</p>\n",
       "</div>"
      ],
      "text/plain": [
       "             Timestamp            Name      Surname  \\\n",
       "0  12/12/2018 15:21:54  Ruddy kamogelo   Moeketsana   \n",
       "1  12/12/2018 15:27:24            Marie    Mkizwana   \n",
       "2  12/12/2018 15:35:21         Nontando     Nziyana   \n",
       "3  12/12/2018 15:38:12         Sibusiso      Manana   \n",
       "4  12/12/2018 15:38:42       Khabonina      Khumalo   \n",
       "\n",
       "  Email Address (the address you have used for Umuzi communications)  \\\n",
       "0                            kamogeloruddy@gmail.com                   \n",
       "1                               m.mkizwana@gmail.com                   \n",
       "2                       nontandonziyana280@gmail.com                   \n",
       "3                              s.manana001@gmail.com                   \n",
       "4                                   khabo25@live.com                   \n",
       "\n",
       "   South African ID  \\\n",
       "0     9403266006086   \n",
       "1     9605290421087   \n",
       "2     9508280403083   \n",
       "3     9501015590084   \n",
       "4     9405050161084   \n",
       "\n",
       "  Section 1 of 6 [When someone else is feeling excited, I tend to get excited too]  \\\n",
       "0                                              Often                                 \n",
       "1                                             Always                                 \n",
       "2                                              Often                                 \n",
       "3                                             Rarely                                 \n",
       "4                                          Sometimes                                 \n",
       "\n",
       "  Section 1 of 6 [Other people’s misfortunes do not disturb me a great deal.]  \\\n",
       "0                                             Always                            \n",
       "1                                              Often                            \n",
       "2                                             Rarely                            \n",
       "3                                              Never                            \n",
       "4                                             Rarely                            \n",
       "\n",
       "  Section 1 of 6 [It upsets me to see someone being treated disrespectfully.]  \\\n",
       "0                                             Always                            \n",
       "1                                              Often                            \n",
       "2                                              Often                            \n",
       "3                                          Sometimes                            \n",
       "4                                              Often                            \n",
       "\n",
       "  Section 1 of 6 [I remain unaffected when someone close to me is happy.]  \\\n",
       "0                                             Always                        \n",
       "1                                             Rarely                        \n",
       "2                                              Never                        \n",
       "3                                          Sometimes                        \n",
       "4                                             Rarely                        \n",
       "\n",
       "  Section 1 of 6 [I enjoy making other people feel better]  \\\n",
       "0                                             Always         \n",
       "1                                              Often         \n",
       "2                                          Sometimes         \n",
       "3                                          Sometimes         \n",
       "4                                             Always         \n",
       "\n",
       "                ...                 \\\n",
       "0               ...                  \n",
       "1               ...                  \n",
       "2               ...                  \n",
       "3               ...                  \n",
       "4               ...                  \n",
       "\n",
       "  Part 2 : Personal Truths [I make jokes about intellectual disability.]  \\\n",
       "0                                           Disagree                       \n",
       "1                                           Disagree                       \n",
       "2                                           Disagree                       \n",
       "3                                           Disagree                       \n",
       "4                                           Disagree                       \n",
       "\n",
       "  Part 2 : Personal Truths [I have little patience for slackers.]  \\\n",
       "0                                           Disagree                \n",
       "1                                            Neutral                \n",
       "2                                            Neutral                \n",
       "3                                            Neutral                \n",
       "4                                              Agree                \n",
       "\n",
       "  Part 2 : Personal Truths [I eat sweets.]  \\\n",
       "0                                    Agree   \n",
       "1                                    Agree   \n",
       "2                                    Agree   \n",
       "3                                    Agree   \n",
       "4                                    Agree   \n",
       "\n",
       "  Part 2 : Personal Truths [I would not like my child to marry someone of a different race.]  \\\n",
       "0                                           Disagree                                           \n",
       "1                                           Disagree                                           \n",
       "2                                           Disagree                                           \n",
       "3                                            Neutral                                           \n",
       "4                                            Neutral                                           \n",
       "\n",
       "  Part 2 : Personal Truths [I often forget what day it is.]  \\\n",
       "0                                              Agree          \n",
       "1                                            Neutral          \n",
       "2                                           Disagree          \n",
       "3                                            Neutral          \n",
       "4                                           Disagree          \n",
       "\n",
       "  Part 2 : Personal Truths [I don‘t strive for elegance in my appearance.]  \\\n",
       "0                                            Neutral                         \n",
       "1                                            Neutral                         \n",
       "2                                            Neutral                         \n",
       "3                                              Agree                         \n",
       "4                                           Disagree                         \n",
       "\n",
       "  Part 2 : Personal Truths [I feel that most people are genuine.]  \\\n",
       "0                                            Neutral                \n",
       "1                                              Agree                \n",
       "2                                            Neutral                \n",
       "3                                              Agree                \n",
       "4                                            Neutral                \n",
       "\n",
       "  Part 2 : Personal Truths [I went through a phase where I was interested in the occult (supernatural).]  \\\n",
       "0                                            Neutral                                                       \n",
       "1                                            Neutral                                                       \n",
       "2                                              Agree                                                       \n",
       "3                                           Disagree                                                       \n",
       "4                                              Agree                                                       \n",
       "\n",
       "  Part 2 : Personal Truths [I would make a good journalist.]  \\\n",
       "0                                              Agree           \n",
       "1                                            Neutral           \n",
       "2                                            Neutral           \n",
       "3                                           Disagree           \n",
       "4                                              Agree           \n",
       "\n",
       "  Are you a South African citizen?  \n",
       "0                              NaN  \n",
       "1                              NaN  \n",
       "2                              NaN  \n",
       "3                              NaN  \n",
       "4                              NaN  \n",
       "\n",
       "[5 rows x 158 columns]"
      ]
     },
     "execution_count": 16,
     "metadata": {},
     "output_type": "execute_result"
    }
   ],
   "source": [
    "df.head()"
   ]
  },
  {
   "cell_type": "code",
   "execution_count": 22,
   "metadata": {},
   "outputs": [
    {
     "data": {
      "text/plain": [
       "(array([], dtype=int64), array([], dtype=int64))"
      ]
     },
     "execution_count": 22,
     "metadata": {},
     "output_type": "execute_result"
    }
   ],
   "source": [
    "# Check for null values\n",
    "np.where(pd.isnull(df.drop(['Are you a South African citizen?'], axis=1)))"
   ]
  },
  {
   "cell_type": "markdown",
   "metadata": {},
   "source": [
    "### Understanding data types"
   ]
  },
  {
   "cell_type": "code",
   "execution_count": 6,
   "metadata": {
    "scrolled": true
   },
   "outputs": [
    {
     "name": "stdout",
     "output_type": "stream",
     "text": [
      "[dtype('int64') dtype('float64') dtype('O')]\n"
     ]
    }
   ],
   "source": [
    "dtypes = [datatype for datatype in df.dtypes]\n",
    "print(np.unique(dtypes))"
   ]
  },
  {
   "cell_type": "markdown",
   "metadata": {},
   "source": [
    "#### fix data type for categorical data types"
   ]
  },
  {
   "cell_type": "code",
   "execution_count": 19,
   "metadata": {
    "scrolled": false
   },
   "outputs": [],
   "source": [
    "# set categorical columns dtype=category\n",
    "for col in df.columns:\n",
    "    if len(np.unique(df[col])) < 6:\n",
    "        raw_cat = pd.Categorical(np.array(df[col]),ordered=False)\n",
    "        df[col] = raw_cat"
   ]
  },
  {
   "cell_type": "code",
   "execution_count": 23,
   "metadata": {},
   "outputs": [
    {
     "name": "stdout",
     "output_type": "stream",
     "text": [
      "<class 'pandas.core.frame.DataFrame'>\n",
      "RangeIndex: 1493 entries, 0 to 1492\n",
      "Columns: 158 entries, Timestamp to Are you a South African citizen?\n",
      "dtypes: category(152), float64(1), int64(1), object(4)\n",
      "memory usage: 307.1+ KB\n"
     ]
    }
   ],
   "source": [
    "df.info()"
   ]
  },
  {
   "cell_type": "code",
   "execution_count": 25,
   "metadata": {},
   "outputs": [
    {
     "data": {
      "text/plain": [
       "True"
      ]
     },
     "execution_count": 25,
     "metadata": {},
     "output_type": "execute_result"
    }
   ],
   "source": [
    "df['Section 1 of 6 [When someone else is feeling excited, I tend to get excited too]'].dtype == 'category'"
   ]
  },
  {
   "cell_type": "markdown",
   "metadata": {},
   "source": [
    "### Total Results of applications by question"
   ]
  },
  {
   "cell_type": "code",
   "execution_count": 15,
   "metadata": {},
   "outputs": [
    {
     "data": {
      "text/plain": [
       "'column'"
      ]
     },
     "execution_count": 15,
     "metadata": {},
     "output_type": "execute_result"
    }
   ],
   "source": [
    "\n",
    "def get_col(col):\n",
    "    dirt, semi_col = col.split('[')\n",
    "    fin_col, dirt = semi_col.split(']')\n",
    "    return fin_col"
   ]
  },
  {
   "cell_type": "code",
   "execution_count": 28,
   "metadata": {},
   "outputs": [
    {
     "name": "stdout",
     "output_type": "stream",
     "text": [
      "High five! You successfully sent some data to your account on plotly. View your plot in your browser at https://plot.ly/~Johan.khanye/0 or inside your plot.ly account where it is named 'share_excitement-bar'\n"
     ]
    },
    {
     "data": {
      "text/html": [
       "<iframe id=\"igraph\" scrolling=\"no\" style=\"border:none;\" seamless=\"seamless\" src=\"https://plot.ly/~Johan.khanye/0.embed\" height=\"525px\" width=\"100%\"></iframe>"
      ],
      "text/plain": [
       "<plotly.tools.PlotlyDisplay object>"
      ]
     },
     "execution_count": 28,
     "metadata": {},
     "output_type": "execute_result"
    }
   ],
   "source": [
    "col = 'Section 1 of 6 [When someone else is feeling excited, I tend to get excited too]'\n",
    "# Get key value pairs, key --> applicant responses and value --> counts of responses;\n",
    "keys = [k for k,v  in df[col].value_counts().items()];\n",
    "values = [v for k,v  in df[col].value_counts().items()];\n",
    "data = [go.Bar(x=keys,y=values)]\n",
    "# graph layout\n",
    "layout = go.Layout(\n",
    "    title= col,\n",
    "    yaxis=dict(\n",
    "        title='Frequency of Applicants',\n",
    "        titlefont=dict(\n",
    "            size=20,\n",
    "            color='rgb(107, 107, 107)'\n",
    "        )\n",
    "    )\n",
    ")\n",
    "\n",
    "# Show plot.\n",
    "fig = go.Figure(data=data, layout=layout)\n",
    "py.iplot(fig, filename='share_excitement-bar')"
   ]
  },
  {
   "cell_type": "code",
   "execution_count": null,
   "metadata": {},
   "outputs": [],
   "source": [
    "x = np.random.randn(500)\n",
    "data = [go.Histogram(x=x)]\n",
    "\n",
    "py.iplot(data, filename='basic histogram')"
   ]
  }
 ],
 "metadata": {
  "kernelspec": {
   "display_name": "Python 3",
   "language": "python",
   "name": "python3"
  },
  "language_info": {
   "codemirror_mode": {
    "name": "ipython",
    "version": 3
   },
   "file_extension": ".py",
   "mimetype": "text/x-python",
   "name": "python",
   "nbconvert_exporter": "python",
   "pygments_lexer": "ipython3",
   "version": "3.6.5"
  }
 },
 "nbformat": 4,
 "nbformat_minor": 2
}
